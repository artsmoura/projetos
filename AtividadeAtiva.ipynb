{
  "nbformat": 4,
  "nbformat_minor": 0,
  "metadata": {
    "colab": {
      "name": "AtividadeAtiva.ipynb",
      "provenance": [],
      "collapsed_sections": []
    },
    "kernelspec": {
      "name": "python3",
      "display_name": "Python 3"
    }
  },
  "cells": [
    {
      "cell_type": "markdown",
      "metadata": {
        "id": "osDUGHvsc-g0",
        "colab_type": "text"
      },
      "source": [
        "# Overwiew\n",
        "  Programa criado como atividade do Instituto de Educação Superior de Brasilia. Este, tem por objetivo, criar usuarios dentro de um sistema de escola/faculdade. Onde recebe dados de informações pessoais, disciplinas existente na escola/faculdade e notas (onde gera a media do aluno e verifica se ele está aprovado ou não)\n",
        "\n",
        "*   **Class pessoa**: Classe onde existe atributos para criação de dados básicos de pessoas\n",
        "*   **Class disciplpina**: Classe onde adiciona disciplinas que existem na escola/faculdade\n",
        "*   **Class aluno**: Classe que herda atributos da classe pessoa e adiciona mais informções, sendo elas: disciplinas (nas quais o aluno está matriculado) e um numero unico de matricula\n",
        "*   **Class boletim**: Class eonde recebe as notas e faz o calculo de media, essas informações são passadas para o usuario\n",
        "\n",
        "\n",
        "\n"
      ]
    },
    {
      "cell_type": "code",
      "metadata": {
        "id": "NvyEGKAsn5e7",
        "colab_type": "code",
        "colab": {}
      },
      "source": [
        "class pessoa:\n",
        "    def __init__(self, nome, sobrenome, idade, cpf):\n",
        "        self.nome = nome\n",
        "        self.sobrenome = sobrenome\n",
        "        self.__idade = idade\n",
        "        self.__cpf = cpf #é o chave primaria, o que diferencia cada pessoa\n",
        "      \n",
        "    @property\n",
        "    def idade(self):\n",
        "        if self.__idade < 0:\n",
        "          print(\"A sua idade não pode ser menor que 0\")\n",
        "          return False\n",
        "        else:  \n",
        "          return self.__idade\n",
        "    \n",
        "    @property\n",
        "    def cpf(self):\n",
        "        return self.__cpf\n",
        "      \n",
        "    def mostrarDados(self):\n",
        "        print(\"Nome:\", self.nome, \"\\nSobrenome:\", self.sobrenome, \"\\nidade:\", self.idade, \"\\ncpf:\", self.cpf)\n",
        "\n",
        "    #d__dict__ mostra todos os objetos"
      ],
      "execution_count": null,
      "outputs": []
    },
    {
      "cell_type": "code",
      "metadata": {
        "id": "yx-qm4DAoB8Y",
        "colab_type": "code",
        "colab": {
          "base_uri": "https://localhost:8080/",
          "height": 102
        },
        "outputId": "263bd5db-e6e1-44c2-e956-5585f8656a46"
      },
      "source": [
        "p1 = pessoa(\"Arthur\", \"Simoes\", -25, 123456789012)\n",
        "p1.mostrarDados()"
      ],
      "execution_count": null,
      "outputs": [
        {
          "output_type": "stream",
          "text": [
            "A sua idade não pode ser menor que 0\n",
            "Nome: Arthur \n",
            "Sobrenome: Simoes \n",
            "idade: False \n",
            "cpf: 123456789012\n"
          ],
          "name": "stdout"
        }
      ]
    },
    {
      "cell_type": "code",
      "metadata": {
        "id": "_L7afsDWn8JV",
        "colab_type": "code",
        "colab": {}
      },
      "source": [
        "class disciplina:\n",
        "    disciplina={}\n",
        "    def __init__(self):\n",
        "        self.disciplina = dict()\n",
        "\n",
        "    def criarDisciplina(self, codDisc, nomeDisc):\n",
        "          if codDisc in self.disciplina.keys():\n",
        "            print(\"Disciplina já existente\")\n",
        "          else:\n",
        "            self.disciplina[codDisc] = nomeDisc          \n",
        "\n",
        "    def mostrarDisciplina(self):\n",
        "        return self.disciplina"
      ],
      "execution_count": 303,
      "outputs": []
    },
    {
      "cell_type": "code",
      "metadata": {
        "id": "h1qJ1gtcbtvF",
        "colab_type": "code",
        "colab": {
          "base_uri": "https://localhost:8080/",
          "height": 34
        },
        "outputId": "0e5fcf76-c95d-448a-fff7-5048f8d4476f"
      },
      "source": [
        "disciplina1 = disciplina()\n",
        "disciplina1.criarDisciplina(1,\"PHP\")\n",
        "disciplina1.mostrarDisciplina()\n",
        "disc2 = disciplina()\n",
        "disc2.criarDisciplina(2,\"JavaScript\")\n",
        "disc2.mostrarDisciplina()\n",
        "\n"
      ],
      "execution_count": 304,
      "outputs": [
        {
          "output_type": "execute_result",
          "data": {
            "text/plain": [
              "{2: 'JavaScript'}"
            ]
          },
          "metadata": {
            "tags": []
          },
          "execution_count": 304
        }
      ]
    },
    {
      "cell_type": "code",
      "metadata": {
        "id": "wzpTuXwZoAZU",
        "colab_type": "code",
        "colab": {}
      },
      "source": [
        "class aluno(pessoa, disciplina):\n",
        "    def __init__(self, nome, sobrenome, idade, cpf):\n",
        "        pessoa.__init__(self, nome, sobrenome, idade,cpf)\n",
        "        self.matricula = self.num_matricula()\n",
        "        self.disciplinas=[]\n",
        "        self.mostrarDados #estou trazendo o metodo da classe pai(pessoa)\n",
        "    \n",
        "    def num_matricula(self):\n",
        "        matricula = 0\n",
        "        matricula += 1\n",
        "        return matricula\n",
        "    \n",
        "    def insere_disciplina(self,disciplina):\n",
        "        if disciplina in (self.disciplinas):\n",
        "            print(\"Disicplina já matriculada\")\n",
        "        else:\n",
        "            self.disciplinas.append(disciplina)\n",
        "            print(\"Disciplina foi adicionada na grade do aluno\")\n",
        "            print(disciplina)\n",
        "\n"
      ],
      "execution_count": 306,
      "outputs": []
    },
    {
      "cell_type": "code",
      "metadata": {
        "id": "3soK26sFFQ4-",
        "colab_type": "code",
        "colab": {
          "base_uri": "https://localhost:8080/",
          "height": 136
        },
        "outputId": "155e003f-d120-41fa-9b1f-e587e4da0187"
      },
      "source": [
        "aluno1 = aluno(\"Arthur\", \"Simoes\", 25, 12020301031)\n",
        "aluno1.mostrarDados()\n",
        "aluno1.insere_disciplina(1)"
      ],
      "execution_count": 308,
      "outputs": [
        {
          "output_type": "stream",
          "text": [
            "Nome: Arthur \n",
            "Sobrenome: Simoes \n",
            "idade: 25 \n",
            "cpf: 12020301031\n",
            "Disciplina foi adicionada na grade do aluno\n",
            "1\n",
            "Disicplina já matriculada\n"
          ],
          "name": "stdout"
        }
      ]
    },
    {
      "cell_type": "code",
      "metadata": {
        "id": "4G2x80XXQxYv",
        "colab_type": "code",
        "colab": {}
      },
      "source": [
        "from statistics import median\n",
        "\n",
        "class boletim:\n",
        "  notas = (())\n",
        "  def __init__(self):\n",
        "    self.notas = ()\n",
        "  \n",
        "  def adicionarNotas (self, nota):\n",
        "    if nota < 0:\n",
        "      print(\"Sua nota não pode ser menor que 0\")\n",
        "    else:  \n",
        "      self.notas = nota\n",
        "    \n",
        "  def mostrarMedia (self):\n",
        "    print(\"A media das notas é: \" % (median(notas)))\n",
        "    if (median(notas) >= 5):\n",
        "      print(\"Aluno aprovado, parabens!\")\n",
        "    else:\n",
        "      print(\"Aluno reprovado\")"
      ],
      "execution_count": 30,
      "outputs": []
    },
    {
      "cell_type": "code",
      "metadata": {
        "id": "87l6CBs8RNin",
        "colab_type": "code",
        "colab": {}
      },
      "source": [
        "notas = boletim()\n",
        "notas.adicionarNotas(4)"
      ],
      "execution_count": 32,
      "outputs": []
    }
  ]
}